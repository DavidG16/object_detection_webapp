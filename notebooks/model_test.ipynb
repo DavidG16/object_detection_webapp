{
 "cells": [
  {
   "cell_type": "code",
   "execution_count": 3,
   "id": "89c8554c-f33a-4615-9da2-537b289fedaf",
   "metadata": {},
   "outputs": [],
   "source": [
    "from imageai import Detection\n",
    "import cv2\n",
    "import os\n",
    "from pathlib import Path\n",
    "from tensorflow.python.framework.ops import disable_eager_execution\n",
    "disable_eager_execution()"
   ]
  },
  {
   "cell_type": "code",
   "execution_count": 4,
   "id": "9ffe543d-85a7-4455-b59f-24b631637500",
   "metadata": {},
   "outputs": [],
   "source": [
    "modelpath = f\"{Path(os.getcwd()).parent}/model/yolo.h5\""
   ]
  },
  {
   "cell_type": "code",
   "execution_count": 5,
   "id": "5ae671b7-2ea9-4658-bc03-ab34403e0434",
   "metadata": {},
   "outputs": [
    {
     "name": "stdout",
     "output_type": "stream",
     "text": [
      "WARNING:tensorflow:From /Users/dgrijalva/envs/ml1/lib/python3.9/site-packages/keras/layers/normalization.py:524: _colocate_with (from tensorflow.python.framework.ops) is deprecated and will be removed in a future version.\n",
      "Instructions for updating:\n",
      "Colocations handled automatically by placer.\n"
     ]
    }
   ],
   "source": [
    "yolo = Detection.ObjectDetection()\n",
    "yolo.setModelTypeAsYOLOv3()\n",
    "yolo.setModelPath(modelpath)\n",
    "yolo.loadModel()"
   ]
  },
  {
   "cell_type": "code",
   "execution_count": 6,
   "id": "83d121c3-d0df-4579-a26c-9a57192932f5",
   "metadata": {},
   "outputs": [
    {
     "data": {
      "text/plain": [
       "True"
      ]
     },
     "execution_count": 6,
     "metadata": {},
     "output_type": "execute_result"
    }
   ],
   "source": [
    "cam = cv2.VideoCapture(0) #0=front-cam, 1=back-cam\n",
    "cam.set(cv2.CAP_PROP_FRAME_WIDTH, 1300)\n",
    "cam.set(cv2.CAP_PROP_FRAME_HEIGHT, 1500)"
   ]
  },
  {
   "cell_type": "code",
   "execution_count": null,
   "id": "52ba643c-512a-4bcd-9ff8-e5b499574593",
   "metadata": {},
   "outputs": [],
   "source": [
    "while True:\n",
    "    ## read frames\n",
    "    ret, img = cam.read()\n",
    "    ## predict yolo\n",
    "    img, preds = yolo.detectCustomObjectsFromImage(input_image=img, \n",
    "                      custom_objects=None, input_type=\"array\",\n",
    "                      output_type=\"array\",\n",
    "                      minimum_percentage_probability=70,\n",
    "                      display_percentage_probability=False,\n",
    "                      display_object_name=True)\n",
    "    ## display predictions\n",
    "    cv2.imshow(\"\", img)\n",
    "    ## press q or Esc to quit    \n",
    "    if (cv2.waitKey(1) & 0xFF == ord(\"q\")) or (cv2.waitKey(1)==27):\n",
    "        break\n",
    "## close camera\n",
    "cam.release()\n",
    "cv2.destroyAllWindows()"
   ]
  },
  {
   "cell_type": "code",
   "execution_count": null,
   "id": "14baabf3-e078-4800-b2f9-40ad97fc16f8",
   "metadata": {},
   "outputs": [],
   "source": []
  }
 ],
 "metadata": {
  "kernelspec": {
   "display_name": "Python 3",
   "language": "python",
   "name": "python3"
  },
  "language_info": {
   "codemirror_mode": {
    "name": "ipython",
    "version": 3
   },
   "file_extension": ".py",
   "mimetype": "text/x-python",
   "name": "python",
   "nbconvert_exporter": "python",
   "pygments_lexer": "ipython3",
   "version": "3.9.1"
  }
 },
 "nbformat": 4,
 "nbformat_minor": 5
}
